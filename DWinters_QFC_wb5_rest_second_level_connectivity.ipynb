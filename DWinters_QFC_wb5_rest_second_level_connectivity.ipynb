{
  "nbformat": 4,
  "nbformat_minor": 0,
  "metadata": {
    "colab": {
      "provenance": [],
      "authorship_tag": "ABX9TyNkHoJJrPmZc4+RCNnCxNea",
      "include_colab_link": true
    },
    "kernelspec": {
      "name": "python3",
      "display_name": "Python 3"
    },
    "language_info": {
      "name": "python"
    }
  },
  "cells": [
    {
      "cell_type": "markdown",
      "metadata": {
        "id": "view-in-github",
        "colab_type": "text"
      },
      "source": [
        "<a href=\"https://colab.research.google.com/github/drewwint/Quant-Family-Collective-fMRI-stats/blob/main/DWinters_QFC_wb5_rest_second_level_connectivity.ipynb\" target=\"_parent\"><img src=\"https://colab.research.google.com/assets/colab-badge.svg\" alt=\"Open In Colab\"/></a>"
      ]
    },
    {
      "cell_type": "markdown",
      "source": [
        "# Resting-state fMRI: Second-level analysis\n",
        "\n",
        "In the following tutorial we will examine brain patterns across multiple participants in relation to a phenotype (simulated) or grouping variale (here we use gender).\n",
        "\n",
        "For simplicity, we will focus on network connectivity of the DMN and seed to voxel connectivity by averaging connectivity and running a regression. This was intentional to have a basis of already covered statistical appraoches in prior discussions - there are many extensions we are covering such as whole-brian machine learning approaches to predict a given phenotype. Additionally, other extensions not covered involve topological network properties such as node centrality or connection efficiency.\n",
        "\n",
        "Here we will start with downloading our data, creating spheres to extract timeseries and estimate connectivity, then running a regression to examine phenotypic and gender assocaitions."
      ],
      "metadata": {
        "id": "iD5tx90rZ2VZ"
      }
    },
    {
      "cell_type": "code",
      "execution_count": null,
      "metadata": {
        "id": "lz-qCd8tZ1r6"
      },
      "outputs": [],
      "source": [
        "import numpy as np\n",
        "! pip install nilearn &> /dev/null\n",
        "from nilearn.connectome import ConnectivityMeasure\n",
        "from nilearn import datasets\n",
        "from nilearn.input_data import NiftiLabelsMasker\n",
        "from nilearn.plotting import plot_connectome\n",
        "import matplotlib.pyplot as plt\n",
        "\n",
        "atlas = datasets.fetch_atlas_msdl()\n",
        "# Loading atlas image stored in 'maps'\n",
        "atlas_filename = atlas[\"maps\"]\n",
        "# Loading atlas data stored in 'labels'\n",
        "labels = atlas[\"labels\"]\n",
        "\n",
        "# Loading the functional datasets\n",
        "data = datasets.fetch_development_fmri(n_subjects=20)\n",
        "\n",
        "# print basic information on the dataset\n",
        "print(f\"First subject functional nifti images (4D) are at: {data.func[0]}\")"
      ]
    },
    {
      "cell_type": "markdown",
      "source": [
        "Simulating a phenotype value for each participant"
      ],
      "metadata": {
        "id": "uW4Q7Ez5DizP"
      }
    },
    {
      "cell_type": "code",
      "source": [
        "np.random.seed(123)\n",
        "px = np.random.normal(loc=2.5,scale=1, size=20)"
      ],
      "metadata": {
        "id": "LdwR-BwaQpb5"
      },
      "execution_count": 3,
      "outputs": []
    },
    {
      "cell_type": "code",
      "source": [
        "plt.hist(px)"
      ],
      "metadata": {
        "colab": {
          "base_uri": "https://localhost:8080/",
          "height": 519
        },
        "id": "K1uwWB56RKMR",
        "outputId": "f0b369d4-3c86-444c-cea7-7262a7b43ecc"
      },
      "execution_count": 4,
      "outputs": [
        {
          "output_type": "execute_result",
          "data": {
            "text/plain": [
              "(array([1., 1., 1., 4., 3., 2., 1., 3., 2., 2.]),\n",
              " array([0.07332076, 0.53658169, 0.99984262, 1.46310355, 1.92636449,\n",
              "        2.38962542, 2.85288635, 3.31614728, 3.77940822, 4.24266915,\n",
              "        4.70593008]),\n",
              " <BarContainer object of 10 artists>)"
            ]
          },
          "metadata": {},
          "execution_count": 4
        },
        {
          "output_type": "display_data",
          "data": {
            "text/plain": [
              "<Figure size 640x480 with 1 Axes>"
            ],
            "image/png": "[encoded data removed]"
          },
          "metadata": {}
        }
      ]
    },
    {
      "cell_type": "markdown",
      "source": [
        "# Default mode network (DMN)\n",
        "\n",
        "We will start by extracting timeseries for the coordinates representnig the DMN and average DMN connectivity for each individual then run inferential statistics to examine brain patterns across participants in relation to phenotype and gender."
      ],
      "metadata": {
        "id": "nddm9HCdZ4fT"
      }
    },
    {
      "cell_type": "markdown",
      "source": [
        "creating spheres for the DMN"
      ],
      "metadata": {
        "id": "fvCKvtToEhOg"
      }
    },
    {
      "cell_type": "code",
      "source": [
        "dmn_coords = [(0, -52, 18), (-46, -68, 32), (46, -68, 32), (1, 50, -5)]\n",
        "labels = [\n",
        "    \"Posterior Cingulate Cortex\",\n",
        "    \"Left Temporoparietal junction\",\n",
        "    \"Right Temporoparietal junction\",\n",
        "    \"Medial prefrontal cortex\",\n",
        "]"
      ],
      "metadata": {
        "id": "ED4hiBz3Un5a"
      },
      "execution_count": 5,
      "outputs": []
    },
    {
      "cell_type": "markdown",
      "source": [
        "### Extracting timeseries for the DMN for each individual brain."
      ],
      "metadata": {
        "id": "8BMucilwEmbG"
      }
    },
    {
      "cell_type": "code",
      "source": [
        "from nilearn.maskers import NiftiSpheresMasker\n",
        "\n",
        "masker = NiftiSpheresMasker(\n",
        "    dmn_coords,\n",
        "    radius=8,\n",
        "    detrend=True,\n",
        "    standardize=\"zscore_sample\",\n",
        "    standardize_confounds=\"zscore_sample\",\n",
        "    low_pass=0.1,\n",
        "    high_pass=0.01,\n",
        "    t_r=2,\n",
        "    memory=\"nilearn_cache\",\n",
        "    memory_level=1,\n",
        "    verbose=2,\n",
        "    clean__butterworth__padtype=\"even\",  # kwarg to modify Butterworth filter\n",
        ")\n",
        "\n",
        "# Additionally, we pass confound information to ensure our extracted\n",
        "# signal is cleaned from confounds.\n",
        "\n",
        "ts = []\n",
        "for i in range(len(data.func)):\n",
        "  func_filename = data.func[i]\n",
        "  confounds_filename = data.confounds[i]\n",
        "  ts.append(masker.fit_transform(\n",
        "      func_filename,\n",
        "      confounds=[confounds_filename]\n",
        "      )\n",
        "  )\n",
        "\n"
      ],
      "metadata": {
        "id": "m8wG1G0FUn7h"
      },
      "execution_count": null,
      "outputs": []
    },
    {
      "cell_type": "markdown",
      "source": [
        "Here I am just making sure we have 20 participants in our extracted timeseries. It is good practice to create these tests after running a command to enrue your data is behaving as expected."
      ],
      "metadata": {
        "id": "HhQNdb9bEvGz"
      }
    },
    {
      "cell_type": "code",
      "source": [
        "len(ts) == 20"
      ],
      "metadata": {
        "colab": {
          "base_uri": "https://localhost:8080/"
        },
        "id": "AF9u3mzFUn-C",
        "outputId": "10a03969-aab6-4383-b1c7-f16b773c336a"
      },
      "execution_count": 7,
      "outputs": [
        {
          "output_type": "execute_result",
          "data": {
            "text/plain": [
              "True"
            ]
          },
          "metadata": {},
          "execution_count": 7
        }
      ]
    },
    {
      "cell_type": "markdown",
      "source": [
        "### Estimating connectivity of the DMN for each individual"
      ],
      "metadata": {
        "id": "l7g4xzA8E7qn"
      }
    },
    {
      "cell_type": "code",
      "source": [
        "dmn_matrix = []\n",
        "correlation_measure = ConnectivityMeasure(kind='correlation')\n",
        "for i in range(len(data.func)):\n",
        "  dmn_matrix.append(correlation_measure.fit_transform([ts[i]])[0])\n"
      ],
      "metadata": {
        "id": "Fz0F7rn-Z4lP"
      },
      "execution_count": null,
      "outputs": []
    },
    {
      "cell_type": "code",
      "source": [
        "len(dmn_matrix) == 20"
      ],
      "metadata": {
        "colab": {
          "base_uri": "https://localhost:8080/"
        },
        "id": "EyFeNadTVno4",
        "outputId": "0446a082-3988-43df-a3e7-644d1749f998"
      },
      "execution_count": 9,
      "outputs": [
        {
          "output_type": "execute_result",
          "data": {
            "text/plain": [
              "True"
            ]
          },
          "metadata": {},
          "execution_count": 9
        }
      ]
    },
    {
      "cell_type": "markdown",
      "source": [
        "### Parcelating connectivity of the DMN for each participant"
      ],
      "metadata": {
        "id": "dlmbnw4oFF1r"
      }
    },
    {
      "cell_type": "code",
      "source": [
        "dmn_ave = []\n",
        "for i in range(len(data.func)):\n",
        "  dmn_ave.append(np.average(dmn_matrix[i]))"
      ],
      "metadata": {
        "id": "iLd1Jm7xVnvH"
      },
      "execution_count": 10,
      "outputs": []
    },
    {
      "cell_type": "code",
      "source": [
        "len(dmn_ave) == 20"
      ],
      "metadata": {
        "colab": {
          "base_uri": "https://localhost:8080/"
        },
        "id": "2Nwk5N-AWVSz",
        "outputId": "029b1641-4c07-40f1-9ec2-9fb3cc36083f"
      },
      "execution_count": 11,
      "outputs": [
        {
          "output_type": "execute_result",
          "data": {
            "text/plain": [
              "True"
            ]
          },
          "metadata": {},
          "execution_count": 11
        }
      ]
    },
    {
      "cell_type": "code",
      "source": [
        "dmn_ave"
      ],
      "metadata": {
        "colab": {
          "base_uri": "https://localhost:8080/"
        },
        "id": "ZmiaUuhpv52Q",
        "outputId": "f618e74e-5d74-4ee6-a770-07f3e52ad15f"
      },
      "execution_count": 12,
      "outputs": [
        {
          "output_type": "execute_result",
          "data": {
            "text/plain": [
              "[0.6240073994383322,\n",
              " 0.6178693626362867,\n",
              " 0.5167166688053969,\n",
              " 0.429530482009688,\n",
              " 0.46031034862304826,\n",
              " 0.4101061989780038,\n",
              " 0.6349946782436227,\n",
              " 0.33606147371222606,\n",
              " 0.5861212743557389,\n",
              " 0.4666624814524576,\n",
              " 0.2781560070312281,\n",
              " 0.4326835515766432,\n",
              " 0.5230855320949088,\n",
              " 0.45588104631943616,\n",
              " 0.3878661346352487,\n",
              " 0.48409803959436937,\n",
              " 0.4979132120373848,\n",
              " 0.44665623015410316,\n",
              " 0.38393014382198887,\n",
              " 0.46824186676386514]"
            ]
          },
          "metadata": {},
          "execution_count": 12
        }
      ]
    },
    {
      "cell_type": "markdown",
      "source": [
        "### Inferential (second-level) statistics on DMN\n",
        "\n",
        "Here we will just run a regression between DMN and gender to demonstrate a connectiviy second-level analysis.\n",
        "\n",
        "#### Phenotype and DMN"
      ],
      "metadata": {
        "id": "Oeb4Vhz5Z4q_"
      }
    },
    {
      "cell_type": "code",
      "source": [
        "import statsmodels.api as sm\n",
        "# x = sm.add_constant(pd.DataFrame(px))\n",
        "mod = sm.OLS(dmn_ave, px)\n",
        "res = mod.fit()\n",
        "print(res.summary())"
      ],
      "metadata": {
        "id": "jfmd-V2rZ4w1",
        "colab": {
          "base_uri": "https://localhost:8080/"
        },
        "outputId": "7cd7e2af-b39e-4bb0-b819-b1f8098f67e1"
      },
      "execution_count": 13,
      "outputs": [
        {
          "output_type": "stream",
          "name": "stdout",
          "text": [
            "                                 OLS Regression Results                                \n",
            "=======================================================================================\n",
            "Dep. Variable:                      y   R-squared (uncentered):                   0.786\n",
            "Model:                            OLS   Adj. R-squared (uncentered):              0.775\n",
            "Method:                 Least Squares   F-statistic:                              69.81\n",
            "Date:                Sun, 26 Nov 2023   Prob (F-statistic):                    8.74e-08\n",
            "Time:                        05:37:50   Log-Likelihood:                          1.6844\n",
            "No. Observations:                  20   AIC:                                     -1.369\n",
            "Df Residuals:                      19   BIC:                                    -0.3731\n",
            "Df Model:                           1                                                  \n",
            "Covariance Type:            nonrobust                                                  \n",
            "==============================================================================\n",
            "                 coef    std err          t      P>|t|      [0.025      0.975]\n",
            "------------------------------------------------------------------------------\n",
            "x1             0.1477      0.018      8.355      0.000       0.111       0.185\n",
            "==============================================================================\n",
            "Omnibus:                        3.193   Durbin-Watson:                   1.717\n",
            "Prob(Omnibus):                  0.203   Jarque-Bera (JB):                1.522\n",
            "Skew:                           0.615   Prob(JB):                        0.467\n",
            "Kurtosis:                       3.561   Cond. No.                         1.00\n",
            "==============================================================================\n",
            "\n",
            "Notes:\n",
            "[1] R² is computed without centering (uncentered) since the model does not contain a constant.\n",
            "[2] Standard Errors assume that the covariance matrix of the errors is correctly specified.\n"
          ]
        }
      ]
    },
    {
      "cell_type": "markdown",
      "source": [
        "#### Gender and DMN\n",
        "\n",
        "first we have to recode our gender varaible into numbers before running our regression."
      ],
      "metadata": {
        "id": "Byht1qQMFmXF"
      }
    },
    {
      "cell_type": "code",
      "source": [
        "gend = list(data.phenotypic['Gender']).copy()\n",
        "\n",
        "gend_r = []\n",
        "for i in gend:\n",
        "  if i == 'M':\n",
        "    gend_r.append(1)\n",
        "  else:\n",
        "    gend_r.append(0)"
      ],
      "metadata": {
        "id": "xZo3FPn-xZzj"
      },
      "execution_count": 14,
      "outputs": []
    },
    {
      "cell_type": "markdown",
      "source": [
        "comparing string gender with numerical gender"
      ],
      "metadata": {
        "id": "N2IxGplYFx_Y"
      }
    },
    {
      "cell_type": "code",
      "source": [
        "\n",
        "import pandas as pd\n",
        "pd.DataFrame({\"letter\":gend,\"num\":gend_r})"
      ],
      "metadata": {
        "colab": {
          "base_uri": "https://localhost:8080/",
          "height": 677
        },
        "id": "2S2kSnPtw7H8",
        "outputId": "4d55c72c-ed1d-4413-c787-f05998e0f7d6"
      },
      "execution_count": 15,
      "outputs": [
        {
          "output_type": "execute_result",
          "data": {
            "text/plain": [
              "   letter  num\n",
              "0       F    0\n",
              "1       M    1\n",
              "2       M    1\n",
              "3       F    0\n",
              "4       M    1\n",
              "5       F    0\n",
              "6       F    0\n",
              "7       F    0\n",
              "8       F    0\n",
              "9       F    0\n",
              "10      M    1\n",
              "11      F    0\n",
              "12      M    1\n",
              "13      M    1\n",
              "14      F    0\n",
              "15      F    0\n",
              "16      M    1\n",
              "17      M    1\n",
              "18      F    0\n",
              "19      M    1"
            ],
            "text/html": [
              "\n",
              "  <div id=\"df-59d3da8b-77f6-450b-839e-43142fe96c19\" class=\"colab-df-container\">\n",
              "    <div>\n",
              "<style scoped>\n",
              "    .dataframe tbody tr th:only-of-type {\n",
              "        vertical-align: middle;\n",
              "    }\n",
              "\n",
              "    .dataframe tbody tr th {\n",
              "        vertical-align: top;\n",
              "    }\n",
              "\n",
              "    .dataframe thead th {\n",
              "        text-align: right;\n",
              "    }\n",
              "</style>\n",
              "<table border=\"1\" class=\"dataframe\">\n",
              "  <thead>\n",
              "    <tr style=\"text-align: right;\">\n",
              "      <th></th>\n",
              "      <th>letter</th>\n",
              "      <th>num</th>\n",
              "    </tr>\n",
              "  </thead>\n",
              "  <tbody>\n",
              "    <tr>\n",
              "      <th>0</th>\n",
              "      <td>F</td>\n",
              "      <td>0</td>\n",
              "    </tr>\n",
              "    <tr>\n",
              "      <th>1</th>\n",
              "      <td>M</td>\n",
              "      <td>1</td>\n",
              "    </tr>\n",
              "    <tr>\n",
              "      <th>2</th>\n",
              "      <td>M</td>\n",
              "      <td>1</td>\n",
              "    </tr>\n",
              "    <tr>\n",
              "      <th>3</th>\n",
              "      <td>F</td>\n",
              "      <td>0</td>\n",
              "    </tr>\n",
              "    <tr>\n",
              "      <th>4</th>\n",
              "      <td>M</td>\n",
              "      <td>1</td>\n",
              "    </tr>\n",
              "    <tr>\n",
              "      <th>5</th>\n",
              "      <td>F</td>\n",
              "      <td>0</td>\n",
              "    </tr>\n",
              "    <tr>\n",
              "      <th>6</th>\n",
              "      <td>F</td>\n",
              "      <td>0</td>\n",
              "    </tr>\n",
              "    <tr>\n",
              "      <th>7</th>\n",
              "      <td>F</td>\n",
              "      <td>0</td>\n",
              "    </tr>\n",
              "    <tr>\n",
              "      <th>8</th>\n",
              "      <td>F</td>\n",
              "      <td>0</td>\n",
              "    </tr>\n",
              "    <tr>\n",
              "      <th>9</th>\n",
              "      <td>F</td>\n",
              "      <td>0</td>\n",
              "    </tr>\n",
              "    <tr>\n",
              "      <th>10</th>\n",
              "      <td>M</td>\n",
              "      <td>1</td>\n",
              "    </tr>\n",
              "    <tr>\n",
              "      <th>11</th>\n",
              "      <td>F</td>\n",
              "      <td>0</td>\n",
              "    </tr>\n",
              "    <tr>\n",
              "      <th>12</th>\n",
              "      <td>M</td>\n",
              "      <td>1</td>\n",
              "    </tr>\n",
              "    <tr>\n",
              "      <th>13</th>\n",
              "      <td>M</td>\n",
              "      <td>1</td>\n",
              "    </tr>\n",
              "    <tr>\n",
              "      <th>14</th>\n",
              "      <td>F</td>\n",
              "      <td>0</td>\n",
              "    </tr>\n",
              "    <tr>\n",
              "      <th>15</th>\n",
              "      <td>F</td>\n",
              "      <td>0</td>\n",
              "    </tr>\n",
              "    <tr>\n",
              "      <th>16</th>\n",
              "      <td>M</td>\n",
              "      <td>1</td>\n",
              "    </tr>\n",
              "    <tr>\n",
              "      <th>17</th>\n",
              "      <td>M</td>\n",
              "      <td>1</td>\n",
              "    </tr>\n",
              "    <tr>\n",
              "      <th>18</th>\n",
              "      <td>F</td>\n",
              "      <td>0</td>\n",
              "    </tr>\n",
              "    <tr>\n",
              "      <th>19</th>\n",
              "      <td>M</td>\n",
              "      <td>1</td>\n",
              "    </tr>\n",
              "  </tbody>\n",
              "</table>\n",
              "</div>\n",
              "    <div class=\"colab-df-buttons\">\n",
              "\n",
              "  <div class=\"colab-df-container\">\n",
              "    <button class=\"colab-df-convert\" onclick=\"convertToInteractive('df-59d3da8b-77f6-450b-839e-43142fe96c19')\"\n",
              "            title=\"Convert this dataframe to an interactive table.\"\n",
              "            style=\"display:none;\">\n",
              "\n",
              "  <svg xmlns=\"http://www.w3.org/2000/svg\" height=\"24px\" viewBox=\"0 -960 960 960\">\n",
              "    <path d=\"M120-120v-720h720v720H120Zm60-500h600v-160H180v160Zm220 220h160v-160H400v160Zm0 220h160v-160H400v160ZM180-400h160v-160H180v160Zm440 0h160v-160H620v160ZM180-180h160v-160H180v160Zm440 0h160v-160H620v160Z\"/>\n",
              "  </svg>\n",
              "    </button>\n",
              "\n",
              "  <style>\n",
              "    .colab-df-container {\n",
              "      display:flex;\n",
              "      gap: 12px;\n",
              "    }\n",
              "\n",
              "    .colab-df-convert {\n",
              "      background-color: #E8F0FE;\n",
              "      border: none;\n",
              "      border-radius: 50%;\n",
              "      cursor: pointer;\n",
              "      display: none;\n",
              "      fill: #1967D2;\n",
              "      height: 32px;\n",
              "      padding: 0 0 0 0;\n",
              "      width: 32px;\n",
              "    }\n",
              "\n",
              "    .colab-df-convert:hover {\n",
              "      background-color: #E2EBFA;\n",
              "      box-shadow: 0px 1px 2px rgba(60, 64, 67, 0.3), 0px 1px 3px 1px rgba(60, 64, 67, 0.15);\n",
              "      fill: #174EA6;\n",
              "    }\n",
              "\n",
              "    .colab-df-buttons div {\n",
              "      margin-bottom: 4px;\n",
              "    }\n",
              "\n",
              "    [theme=dark] .colab-df-convert {\n",
              "      background-color: #3B4455;\n",
              "      fill: #D2E3FC;\n",
              "    }\n",
              "\n",
              "    [theme=dark] .colab-df-convert:hover {\n",
              "      background-color: #434B5C;\n",
              "      box-shadow: 0px 1px 3px 1px rgba(0, 0, 0, 0.15);\n",
              "      filter: drop-shadow(0px 1px 2px rgba(0, 0, 0, 0.3));\n",
              "      fill: #FFFFFF;\n",
              "    }\n",
              "  </style>\n",
              "\n",
              "    <script>\n",
              "      const buttonEl =\n",
              "        document.querySelector('#df-59d3da8b-77f6-450b-839e-43142fe96c19 button.colab-df-convert');\n",
              "      buttonEl.style.display =\n",
              "        google.colab.kernel.accessAllowed ? 'block' : 'none';\n",
              "\n",
              "      async function convertToInteractive(key) {\n",
              "        const element = document.querySelector('#df-59d3da8b-77f6-450b-839e-43142fe96c19');\n",
              "        const dataTable =\n",
              "          await google.colab.kernel.invokeFunction('convertToInteractive',\n",
              "                                                    [key], {});\n",
              "        if (!dataTable) return;\n",
              "\n",
              "        const docLinkHtml = 'Like what you see? Visit the ' +\n",
              "          '<a target=\"_blank\" href=https://colab.research.google.com/notebooks/data_table.ipynb>data table notebook</a>'\n",
              "          + ' to learn more about interactive tables.';\n",
              "        element.innerHTML = '';\n",
              "        dataTable['output_type'] = 'display_data';\n",
              "        await google.colab.output.renderOutput(dataTable, element);\n",
              "        const docLink = document.createElement('div');\n",
              "        docLink.innerHTML = docLinkHtml;\n",
              "        element.appendChild(docLink);\n",
              "      }\n",
              "    </script>\n",
              "  </div>\n",
              "\n",
              "\n",
              "<div id=\"df-15034e10-c1f3-48c9-8ca9-1608bfb691f3\">\n",
              "  <button class=\"colab-df-quickchart\" onclick=\"quickchart('df-15034e10-c1f3-48c9-8ca9-1608bfb691f3')\"\n",
              "            title=\"Suggest charts\"\n",
              "            style=\"display:none;\">\n",
              "\n",
              "<svg xmlns=\"http://www.w3.org/2000/svg\" height=\"24px\"viewBox=\"0 0 24 24\"\n",
              "     width=\"24px\">\n",
              "    <g>\n",
              "        <path d=\"M19 3H5c-1.1 0-2 .9-2 2v14c0 1.1.9 2 2 2h14c1.1 0 2-.9 2-2V5c0-1.1-.9-2-2-2zM9 17H7v-7h2v7zm4 0h-2V7h2v10zm4 0h-2v-4h2v4z\"/>\n",
              "    </g>\n",
              "</svg>\n",
              "  </button>\n",
              "\n",
              "<style>\n",
              "  .colab-df-quickchart {\n",
              "      --bg-color: #E8F0FE;\n",
              "      --fill-color: #1967D2;\n",
              "      --hover-bg-color: #E2EBFA;\n",
              "      --hover-fill-color: #174EA6;\n",
              "      --disabled-fill-color: #AAA;\n",
              "      --disabled-bg-color: #DDD;\n",
              "  }\n",
              "\n",
              "  [theme=dark] .colab-df-quickchart {\n",
              "      --bg-color: #3B4455;\n",
              "      --fill-color: #D2E3FC;\n",
              "      --hover-bg-color: #434B5C;\n",
              "      --hover-fill-color: #FFFFFF;\n",
              "      --disabled-bg-color: #3B4455;\n",
              "      --disabled-fill-color: #666;\n",
              "  }\n",
              "\n",
              "  .colab-df-quickchart {\n",
              "    background-color: var(--bg-color);\n",
              "    border: none;\n",
              "    border-radius: 50%;\n",
              "    cursor: pointer;\n",
              "    display: none;\n",
              "    fill: var(--fill-color);\n",
              "    height: 32px;\n",
              "    padding: 0;\n",
              "    width: 32px;\n",
              "  }\n",
              "\n",
              "  .colab-df-quickchart:hover {\n",
              "    background-color: var(--hover-bg-color);\n",
              "    box-shadow: 0 1px 2px rgba(60, 64, 67, 0.3), 0 1px 3px 1px rgba(60, 64, 67, 0.15);\n",
              "    fill: var(--button-hover-fill-color);\n",
              "  }\n",
              "\n",
              "  .colab-df-quickchart-complete:disabled,\n",
              "  .colab-df-quickchart-complete:disabled:hover {\n",
              "    background-color: var(--disabled-bg-color);\n",
              "    fill: var(--disabled-fill-color);\n",
              "    box-shadow: none;\n",
              "  }\n",
              "\n",
              "  .colab-df-spinner {\n",
              "    border: 2px solid var(--fill-color);\n",
              "    border-color: transparent;\n",
              "    border-bottom-color: var(--fill-color);\n",
              "    animation:\n",
              "      spin 1s steps(1) infinite;\n",
              "  }\n",
              "\n",
              "  @keyframes spin {\n",
              "    0% {\n",
              "      border-color: transparent;\n",
              "      border-bottom-color: var(--fill-color);\n",
              "      border-left-color: var(--fill-color);\n",
              "    }\n",
              "    20% {\n",
              "      border-color: transparent;\n",
              "      border-left-color: var(--fill-color);\n",
              "      border-top-color: var(--fill-color);\n",
              "    }\n",
              "    30% {\n",
              "      border-color: transparent;\n",
              "      border-left-color: var(--fill-color);\n",
              "      border-top-color: var(--fill-color);\n",
              "      border-right-color: var(--fill-color);\n",
              "    }\n",
              "    40% {\n",
              "      border-color: transparent;\n",
              "      border-right-color: var(--fill-color);\n",
              "      border-top-color: var(--fill-color);\n",
              "    }\n",
              "    60% {\n",
              "      border-color: transparent;\n",
              "      border-right-color: var(--fill-color);\n",
              "    }\n",
              "    80% {\n",
              "      border-color: transparent;\n",
              "      border-right-color: var(--fill-color);\n",
              "      border-bottom-color: var(--fill-color);\n",
              "    }\n",
              "    90% {\n",
              "      border-color: transparent;\n",
              "      border-bottom-color: var(--fill-color);\n",
              "    }\n",
              "  }\n",
              "</style>\n",
              "\n",
              "  <script>\n",
              "    async function quickchart(key) {\n",
              "      const quickchartButtonEl =\n",
              "        document.querySelector('#' + key + ' button');\n",
              "      quickchartButtonEl.disabled = true;  // To prevent multiple clicks.\n",
              "      quickchartButtonEl.classList.add('colab-df-spinner');\n",
              "      try {\n",
              "        const charts = await google.colab.kernel.invokeFunction(\n",
              "            'suggestCharts', [key], {});\n",
              "      } catch (error) {\n",
              "        console.error('Error during call to suggestCharts:', error);\n",
              "      }\n",
              "      quickchartButtonEl.classList.remove('colab-df-spinner');\n",
              "      quickchartButtonEl.classList.add('colab-df-quickchart-complete');\n",
              "    }\n",
              "    (() => {\n",
              "      let quickchartButtonEl =\n",
              "        document.querySelector('#df-15034e10-c1f3-48c9-8ca9-1608bfb691f3 button');\n",
              "      quickchartButtonEl.style.display =\n",
              "        google.colab.kernel.accessAllowed ? 'block' : 'none';\n",
              "    })();\n",
              "  </script>\n",
              "</div>\n",
              "    </div>\n",
              "  </div>\n"
            ]
          },
          "metadata": {},
          "execution_count": 15
        }
      ]
    },
    {
      "cell_type": "markdown",
      "source": [
        "#### Running the regression with gender"
      ],
      "metadata": {
        "id": "9gxR904fZ42R"
      }
    },
    {
      "cell_type": "code",
      "source": [
        "# x = sm.add_constant(pd.DataFrame(gend_r))\n",
        "mod = sm.OLS(dmn_ave, gend_r)\n",
        "res = mod.fit()\n",
        "print(res.summary())"
      ],
      "metadata": {
        "id": "XYwjMIghZ48E",
        "colab": {
          "base_uri": "https://localhost:8080/"
        },
        "outputId": "8d8eacee-01ba-4caf-9b58-a2e392f5e184"
      },
      "execution_count": 16,
      "outputs": [
        {
          "output_type": "stream",
          "name": "stdout",
          "text": [
            "                                 OLS Regression Results                                \n",
            "=======================================================================================\n",
            "Dep. Variable:                      y   R-squared (uncentered):                   0.437\n",
            "Model:                            OLS   Adj. R-squared (uncentered):              0.407\n",
            "Method:                 Least Squares   F-statistic:                              14.75\n",
            "Date:                Sun, 26 Nov 2023   Prob (F-statistic):                     0.00110\n",
            "Time:                        05:37:50   Log-Likelihood:                         -7.9923\n",
            "No. Observations:                  20   AIC:                                      17.98\n",
            "Df Residuals:                      19   BIC:                                      18.98\n",
            "Df Model:                           1                                                  \n",
            "Covariance Type:            nonrobust                                                  \n",
            "==============================================================================\n",
            "                 coef    std err          t      P>|t|      [0.025      0.975]\n",
            "------------------------------------------------------------------------------\n",
            "x1             0.4739      0.123      3.840      0.001       0.216       0.732\n",
            "==============================================================================\n",
            "Omnibus:                        5.470   Durbin-Watson:                   1.028\n",
            "Prob(Omnibus):                  0.065   Jarque-Bera (JB):                1.628\n",
            "Skew:                          -0.111   Prob(JB):                        0.443\n",
            "Kurtosis:                       1.620   Cond. No.                         1.00\n",
            "==============================================================================\n",
            "\n",
            "Notes:\n",
            "[1] R² is computed without centering (uncentered) since the model does not contain a constant.\n",
            "[2] Standard Errors assume that the covariance matrix of the errors is correctly specified.\n"
          ]
        }
      ]
    },
    {
      "cell_type": "markdown",
      "source": [],
      "metadata": {
        "id": "UbZ-Qxx5Z5CJ"
      }
    },
    {
      "cell_type": "code",
      "source": [
        "x = pd.DataFrame({\"gend\":gend_r, \"pheno\": px}) # could add an interaction: , \"interact\": gend_r * px\n",
        "mod = sm.OLS(dmn_ave, x)\n",
        "res = mod.fit()\n",
        "print(res.summary())"
      ],
      "metadata": {
        "id": "kbMe-E5KZ5Id",
        "colab": {
          "base_uri": "https://localhost:8080/"
        },
        "outputId": "09f9a990-9c3b-4c21-a905-f9baa354a6fa"
      },
      "execution_count": 17,
      "outputs": [
        {
          "output_type": "stream",
          "name": "stdout",
          "text": [
            "                                 OLS Regression Results                                \n",
            "=======================================================================================\n",
            "Dep. Variable:                      y   R-squared (uncentered):                   0.787\n",
            "Model:                            OLS   Adj. R-squared (uncentered):              0.763\n",
            "Method:                 Least Squares   F-statistic:                              33.18\n",
            "Date:                Sun, 26 Nov 2023   Prob (F-statistic):                    9.16e-07\n",
            "Time:                        05:37:50   Log-Likelihood:                          1.7120\n",
            "No. Observations:                  20   AIC:                                     0.5760\n",
            "Df Residuals:                      18   BIC:                                      2.567\n",
            "Df Model:                           2                                                  \n",
            "Covariance Type:            nonrobust                                                  \n",
            "==============================================================================\n",
            "                 coef    std err          t      P>|t|      [0.025      0.975]\n",
            "------------------------------------------------------------------------------\n",
            "gend           0.0253      0.114      0.223      0.826      -0.213       0.264\n",
            "pheno          0.1434      0.026      5.432      0.000       0.088       0.199\n",
            "==============================================================================\n",
            "Omnibus:                        3.458   Durbin-Watson:                   1.695\n",
            "Prob(Omnibus):                  0.177   Jarque-Bera (JB):                1.700\n",
            "Skew:                           0.649   Prob(JB):                        0.427\n",
            "Kurtosis:                       3.596   Cond. No.                         6.45\n",
            "==============================================================================\n",
            "\n",
            "Notes:\n",
            "[1] R² is computed without centering (uncentered) since the model does not contain a constant.\n",
            "[2] Standard Errors assume that the covariance matrix of the errors is correctly specified.\n"
          ]
        }
      ]
    },
    {
      "cell_type": "markdown",
      "source": [
        "## Seed to voxel correlation\n",
        "\n",
        "Here what we want to know how the magnitude of Posterior Cingulate Cortex (PCC) connectivity with the rest of the brain assocaites with phenotype and gender.\n",
        "\n",
        "We will estimate connectiviy of  our PCC seed with voxels across the entire brain and average the connectivity of the PCC for each individual then run second-level analyses to examine pattern level associations across participants.\n"
      ],
      "metadata": {
        "id": "cHjDfaJyZ5OB"
      }
    },
    {
      "cell_type": "markdown",
      "source": [
        "### Extracting seed timeseries"
      ],
      "metadata": {
        "id": "7myIW8IBG4Fb"
      }
    },
    {
      "cell_type": "code",
      "source": [
        "pcc_coords = [(0, -52, 18)]\n",
        "\n",
        "from nilearn.maskers import NiftiSpheresMasker\n",
        "\n",
        "seed_masker = NiftiSpheresMasker(\n",
        "    pcc_coords,\n",
        "    radius=8,\n",
        "    detrend=True,\n",
        "    standardize=\"zscore_sample\",\n",
        "    standardize_confounds=\"zscore_sample\",\n",
        "    low_pass=0.1,\n",
        "    high_pass=0.01,\n",
        "    t_r=2,\n",
        "    memory=\"nilearn_cache\",\n",
        "    memory_level=1,\n",
        "    verbose=0,\n",
        ")\n",
        "\n",
        "\n",
        "seed_time_series = []\n",
        "for i in range(len(data.func)):\n",
        "  func_filename = data.func[i]\n",
        "  confounds_filename = data.confounds[i]\n",
        "  seed_time_series.append(seed_masker.fit_transform(\n",
        "      func_filename,\n",
        "      confounds=[confounds_filename]\n",
        "      )\n",
        "  )\n",
        "\n"
      ],
      "metadata": {
        "id": "207ZOy3XZ5Ti"
      },
      "execution_count": 18,
      "outputs": []
    },
    {
      "cell_type": "markdown",
      "source": [
        "### Extracting timeseries across the entire brain"
      ],
      "metadata": {
        "id": "65hx__lwZ5a6"
      }
    },
    {
      "cell_type": "code",
      "source": [
        "from nilearn.maskers import NiftiMasker\n",
        "\n",
        "brain_masker = NiftiMasker(\n",
        "    smoothing_fwhm=6,\n",
        "    detrend=True,\n",
        "    standardize=\"zscore_sample\",\n",
        "    standardize_confounds=\"zscore_sample\",\n",
        "    low_pass=0.1,\n",
        "    high_pass=0.01,\n",
        "    t_r=2,\n",
        "    memory=\"nilearn_cache\",\n",
        "    memory_level=1,\n",
        "    verbose=0,\n",
        ")\n",
        "\n",
        "\n",
        "brain_time_series = []\n",
        "for i in range(len(data.func)):\n",
        "  func_filename = data.func[i]\n",
        "  confounds_filename = data.confounds[i]\n",
        "  brain_time_series.append(brain_masker.fit_transform(\n",
        "      func_filename,\n",
        "      confounds=[confounds_filename]\n",
        "      )\n",
        "  )\n",
        "\n"
      ],
      "metadata": {
        "id": "dunzlURnZ5g9"
      },
      "execution_count": 19,
      "outputs": []
    },
    {
      "cell_type": "markdown",
      "source": [
        "### Estimating PCC connectivity"
      ],
      "metadata": {
        "id": "J9bXJIvuZ5md"
      }
    },
    {
      "cell_type": "code",
      "source": [
        "import numpy as np\n",
        "\n",
        "\n",
        "seed_to_voxel_correlations = []\n",
        "for i in range(len(data.func)):\n",
        "  bt = brain_time_series[i].T\n",
        "  st = seed_time_series[i]\n",
        "  seed_to_voxel_correlations.append(\n",
        "    np.arctanh(np.dot(bt, st) / st.shape[0]\n",
        "               )\n",
        "    )\n",
        "\n",
        "\n"
      ],
      "metadata": {
        "id": "yC9OdlHDZ5sV"
      },
      "execution_count": 20,
      "outputs": []
    },
    {
      "cell_type": "markdown",
      "source": [
        "test to ensure we have 20 participants"
      ],
      "metadata": {
        "id": "GBIq43-5HGRv"
      }
    },
    {
      "cell_type": "code",
      "source": [
        "len(seed_to_voxel_correlations)==20"
      ],
      "metadata": {
        "colab": {
          "base_uri": "https://localhost:8080/"
        },
        "id": "3mzVSx37C2YS",
        "outputId": "7dde5db4-daf5-46f8-9d26-73d99d909dca"
      },
      "execution_count": 21,
      "outputs": [
        {
          "output_type": "execute_result",
          "data": {
            "text/plain": [
              "True"
            ]
          },
          "metadata": {},
          "execution_count": 21
        }
      ]
    },
    {
      "cell_type": "markdown",
      "source": [
        "### Averaging PCC connectivity for each participant"
      ],
      "metadata": {
        "id": "gcn4VGxYHMNn"
      }
    },
    {
      "cell_type": "code",
      "source": [
        "seed_ave = []\n",
        "for i in range(len(data.func)):\n",
        "  seed_ave.append(np.average(seed_to_voxel_correlations[i]))"
      ],
      "metadata": {
        "id": "NHWAi2ywC2aZ"
      },
      "execution_count": 22,
      "outputs": []
    },
    {
      "cell_type": "code",
      "source": [
        "len(seed_ave)==20"
      ],
      "metadata": {
        "colab": {
          "base_uri": "https://localhost:8080/"
        },
        "id": "DLt23VMTDUAU",
        "outputId": "d7e6084b-99dd-4b0f-d277-72dc24aba8db"
      },
      "execution_count": 23,
      "outputs": [
        {
          "output_type": "execute_result",
          "data": {
            "text/plain": [
              "True"
            ]
          },
          "metadata": {},
          "execution_count": 23
        }
      ]
    },
    {
      "cell_type": "markdown",
      "source": [
        "### Phenotype and PCC connectivity"
      ],
      "metadata": {
        "id": "YUFHAOqgDgyz"
      }
    },
    {
      "cell_type": "code",
      "source": [
        "mod = sm.OLS(seed_ave, px)\n",
        "res = mod.fit()\n",
        "print(res.summary())"
      ],
      "metadata": {
        "colab": {
          "base_uri": "https://localhost:8080/"
        },
        "id": "x-01GNG2DUCi",
        "outputId": "1b6b5e5f-5f3b-4837-f310-cebb3b1a2c9e"
      },
      "execution_count": 24,
      "outputs": [
        {
          "output_type": "stream",
          "name": "stdout",
          "text": [
            "                                 OLS Regression Results                                \n",
            "=======================================================================================\n",
            "Dep. Variable:                      y   R-squared (uncentered):                   0.603\n",
            "Model:                            OLS   Adj. R-squared (uncentered):              0.582\n",
            "Method:                 Least Squares   F-statistic:                              28.84\n",
            "Date:                Sun, 26 Nov 2023   Prob (F-statistic):                    3.50e-05\n",
            "Time:                        05:41:51   Log-Likelihood:                          34.971\n",
            "No. Observations:                  20   AIC:                                     -67.94\n",
            "Df Residuals:                      19   BIC:                                     -66.95\n",
            "Df Model:                           1                                                  \n",
            "Covariance Type:            nonrobust                                                  \n",
            "==============================================================================\n",
            "                 coef    std err          t      P>|t|      [0.025      0.975]\n",
            "------------------------------------------------------------------------------\n",
            "x1             0.0180      0.003      5.371      0.000       0.011       0.025\n",
            "==============================================================================\n",
            "Omnibus:                        0.438   Durbin-Watson:                   1.678\n",
            "Prob(Omnibus):                  0.803   Jarque-Bera (JB):                0.553\n",
            "Skew:                          -0.146   Prob(JB):                        0.758\n",
            "Kurtosis:                       2.240   Cond. No.                         1.00\n",
            "==============================================================================\n",
            "\n",
            "Notes:\n",
            "[1] R² is computed without centering (uncentered) since the model does not contain a constant.\n",
            "[2] Standard Errors assume that the covariance matrix of the errors is correctly specified.\n"
          ]
        }
      ]
    },
    {
      "cell_type": "markdown",
      "source": [
        "### Gender and PCC connectivity"
      ],
      "metadata": {
        "id": "Tzwu63F8Hacp"
      }
    },
    {
      "cell_type": "code",
      "source": [
        "mod = sm.OLS(seed_ave, gend_r)\n",
        "res = mod.fit()\n",
        "print(res.summary())"
      ],
      "metadata": {
        "colab": {
          "base_uri": "https://localhost:8080/"
        },
        "id": "HvLLk1DSLBzW",
        "outputId": "6f737cf0-7bd0-4f46-9a37-2490d4da2758"
      },
      "execution_count": 25,
      "outputs": [
        {
          "output_type": "stream",
          "name": "stdout",
          "text": [
            "                                 OLS Regression Results                                \n",
            "=======================================================================================\n",
            "Dep. Variable:                      y   R-squared (uncentered):                   0.429\n",
            "Model:                            OLS   Adj. R-squared (uncentered):              0.399\n",
            "Method:                 Least Squares   F-statistic:                              14.25\n",
            "Date:                Sun, 26 Nov 2023   Prob (F-statistic):                     0.00128\n",
            "Time:                        05:41:51   Log-Likelihood:                          31.332\n",
            "No. Observations:                  20   AIC:                                     -60.66\n",
            "Df Residuals:                      19   BIC:                                     -59.67\n",
            "Df Model:                           1                                                  \n",
            "Covariance Type:            nonrobust                                                  \n",
            "==============================================================================\n",
            "                 coef    std err          t      P>|t|      [0.025      0.975]\n",
            "------------------------------------------------------------------------------\n",
            "x1             0.0652      0.017      3.775      0.001       0.029       0.101\n",
            "==============================================================================\n",
            "Omnibus:                        0.215   Durbin-Watson:                   1.422\n",
            "Prob(Omnibus):                  0.898   Jarque-Bera (JB):                0.300\n",
            "Skew:                           0.207   Prob(JB):                        0.861\n",
            "Kurtosis:                       2.566   Cond. No.                         1.00\n",
            "==============================================================================\n",
            "\n",
            "Notes:\n",
            "[1] R² is computed without centering (uncentered) since the model does not contain a constant.\n",
            "[2] Standard Errors assume that the covariance matrix of the errors is correctly specified.\n"
          ]
        }
      ]
    },
    {
      "cell_type": "markdown",
      "source": [
        "### Gender and phenotype with PCC connectivity"
      ],
      "metadata": {
        "id": "iQCvtqY7De3g"
      }
    },
    {
      "cell_type": "code",
      "source": [
        "x = pd.DataFrame({\"gend\":gend_r, \"pheno\": px}) #Could add interaction: , \"interact\": gend_r * px}\n",
        "mod = sm.OLS(seed_ave, x)\n",
        "res = mod.fit()\n",
        "print(res.summary())"
      ],
      "metadata": {
        "colab": {
          "base_uri": "https://localhost:8080/"
        },
        "id": "X_bHYJChDe88",
        "outputId": "b17bbaf4-b487-4b4f-c1c8-f9d9963b76e6"
      },
      "execution_count": 28,
      "outputs": [
        {
          "output_type": "stream",
          "name": "stdout",
          "text": [
            "                                 OLS Regression Results                                \n",
            "=======================================================================================\n",
            "Dep. Variable:                      y   R-squared (uncentered):                   0.620\n",
            "Model:                            OLS   Adj. R-squared (uncentered):              0.578\n",
            "Method:                 Least Squares   F-statistic:                              14.69\n",
            "Date:                Sun, 26 Nov 2023   Prob (F-statistic):                    0.000165\n",
            "Time:                        05:43:35   Log-Likelihood:                          35.416\n",
            "No. Observations:                  20   AIC:                                     -66.83\n",
            "Df Residuals:                      18   BIC:                                     -64.84\n",
            "Df Model:                           2                                                  \n",
            "Covariance Type:            nonrobust                                                  \n",
            "==============================================================================\n",
            "                 coef    std err          t      P>|t|      [0.025      0.975]\n",
            "------------------------------------------------------------------------------\n",
            "gend           0.0191      0.021      0.906      0.377      -0.025       0.063\n",
            "pheno          0.0147      0.005      3.013      0.007       0.004       0.025\n",
            "==============================================================================\n",
            "Omnibus:                        0.528   Durbin-Watson:                   1.669\n",
            "Prob(Omnibus):                  0.768   Jarque-Bera (JB):                0.602\n",
            "Skew:                          -0.154   Prob(JB):                        0.740\n",
            "Kurtosis:                       2.208   Cond. No.                         6.45\n",
            "==============================================================================\n",
            "\n",
            "Notes:\n",
            "[1] R² is computed without centering (uncentered) since the model does not contain a constant.\n",
            "[2] Standard Errors assume that the covariance matrix of the errors is correctly specified.\n"
          ]
        }
      ]
    },
    {
      "cell_type": "markdown",
      "source": [
        "# Conclusion\n",
        "Now you should have a sense for how to conduct second-lave analyses with functional connectivity data.\n",
        "\n",
        "Again - there are many extensions of these approaches we are not covering but these are the basics to build intuition for running anlayses on fMRI data.\n",
        "\n",
        "We can expand these appraoches in later tutorials (so look out for more in the future).\n"
      ],
      "metadata": {
        "id": "A2NYHPDJDfDu"
      }
    }
  ]
}